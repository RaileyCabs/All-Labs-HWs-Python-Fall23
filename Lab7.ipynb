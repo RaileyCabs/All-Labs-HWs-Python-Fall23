{
 "cells": [
  {
   "cell_type": "markdown",
   "metadata": {},
   "source": [
    "# Python Lists, and API's\n",
    "### Name: James Railey Cabrera\n",
    "### Lab: 7\n",
    "\n",
    "Todays Lab will be going over python lists, tuples, and using some api's\n",
    "to get data from the internet. We will be using the requests library to\n",
    "get data from the internet. We will also be using the json library to\n",
    "parse the data we get from the internet."
   ]
  },
  {
   "cell_type": "code",
   "execution_count": 1,
   "metadata": {},
   "outputs": [],
   "source": [
    "# Creating Lists and Tuples\n",
    "\n",
    "# Create a list named fruits with the following elements: \"apple\", \"banana\", \"cherry\".\n",
    "fruits = [\"apple\", \"banana\", \"cherry\"]\n",
    "# Create a tuple named coordinates with three numbers representing a point in 3D space.\n",
    "coordinates = (1, 2, 3)"
   ]
  },
  {
   "cell_type": "code",
   "execution_count": 2,
   "metadata": {},
   "outputs": [
    {
     "data": {
      "text/plain": [
       "3"
      ]
     },
     "execution_count": 2,
     "metadata": {},
     "output_type": "execute_result"
    }
   ],
   "source": [
    "# Accessing Elements\n",
    "\n",
    "# Print the second element of the fruits list.\n",
    "fruits[1]\n",
    "# Print the last element of the coordinates tuple.\n",
    "coordinates[-1]\n"
   ]
  },
  {
   "cell_type": "code",
   "execution_count": 3,
   "metadata": {},
   "outputs": [
    {
     "name": "stdout",
     "output_type": "stream",
     "text": [
      "['apple', 'banana', 'cherry', 'orange']\n",
      "['blueberry', 'apple', 'banana', 'cherry', 'orange']\n",
      "['blueberry', 'apple', 'cherry', 'orange']\n"
     ]
    }
   ],
   "source": [
    "# Modifying lists\n",
    "fruits = [\"apple\", \"banana\", \"cherry\"]\n",
    "# Add \"orange\" to the end of the fruits list.\n",
    "fruits.append(\"orange\")\n",
    "print(fruits)\n",
    "# Insert \"blueberry\" at the beginning of the fruits list.\n",
    "fruits.insert(0, \"blueberry\")\n",
    "print(fruits)\n",
    "#  Remove \"banana\" from the fruits list.\n",
    "fruits.remove(\"banana\")\n",
    "print(fruits)\n",
    "# Change the first element of the fruits list to \"strawberry\".\n",
    "fruits[0] = \"strawberry\""
   ]
  },
  {
   "cell_type": "code",
   "execution_count": 4,
   "metadata": {},
   "outputs": [
    {
     "name": "stdout",
     "output_type": "stream",
     "text": [
      "['cherry', 'orange']\n"
     ]
    }
   ],
   "source": [
    "# List Slicing\n",
    "\n",
    "# Create a new list berries that contains only the \"blueberry\" and \"strawberry\" from the fruits list.\n",
    "berries = fruits[1:3]\n",
    "#1 to 3 because 3 is not included\n",
    "# Print the last two elements of the fruits list using negative indexing.\n",
    "print (fruits[-2:])"
   ]
  },
  {
   "cell_type": "code",
   "execution_count": 5,
   "metadata": {},
   "outputs": [],
   "source": [
    "# List Comprehensions\n",
    "\n",
    "# Create a new list even_fruits that contains only the fruits with an even number of characters from the fruits list.\n",
    "even_fruits = [fruit for fruit in fruits if len(fruit) % 2 == 0]\n",
    "# Create a new list upper_fruits that contains all the fruits from the fruits list in uppercase letters.\n",
    "uper_fruits = [fruit.upper() for fruit in fruits]"
   ]
  },
  {
   "cell_type": "code",
   "execution_count": 6,
   "metadata": {},
   "outputs": [],
   "source": [
    "# Tuples and immutability\n",
    "coordinate = (1, 2, 3)\n",
    "# Try to change the first element of the coordinates tuple to a different number and observe what happens.\n",
    "\n",
    "# Try to add a new element to the coordinates tuple and observe what happens.\n",
    "\n",
    "# Create a new tuple new_coordinates that is a modified version of coordinates with the first element changed.\n",
    "new_coordinates = (4, 2, 3)"
   ]
  },
  {
   "cell_type": "code",
   "execution_count": 7,
   "metadata": {},
   "outputs": [
    {
     "data": {
      "text/plain": [
       "1"
      ]
     },
     "execution_count": 7,
     "metadata": {},
     "output_type": "execute_result"
    }
   ],
   "source": [
    "\n",
    "# Built-in Functions and Methods\n",
    "\n",
    "# Use the len() function to print the length of the fruits list.\n",
    "len(fruits)\n",
    "# Use the sorted() function to print a sorted version of the fruits list without changing the original list.\n",
    "sorted(fruits)\n",
    "# Use the list.sort() method to sort the fruits list in place.\n",
    "list.sort(fruits)\n",
    "# Find the index of \"cherry\" in the fruits list using the list.index() method.\n",
    "fruits.index(\"cherry\")"
   ]
  },
  {
   "cell_type": "markdown",
   "metadata": {},
   "source": [
    "# Working with API's \n",
    "\n"
   ]
  },
  {
   "cell_type": "code",
   "execution_count": 8,
   "metadata": {},
   "outputs": [],
   "source": [
    "# import the requests library to get data from the internet\n",
    "import requests\n",
    "\n",
    "# import the json library to parse the data we get from the internet\n",
    "import json\n"
   ]
  },
  {
   "cell_type": "code",
   "execution_count": 9,
   "metadata": {},
   "outputs": [],
   "source": [
    "# Use the requests library to send a GET request to the JSONPlaceholder API to retrieve a list of posts. The API endpoint is https://jsonplaceholder.typicode.com/posts.\n",
    "\n",
    "api_data = requests.get(\"https://jsonplaceholder.typicode.com/posts\")"
   ]
  },
  {
   "cell_type": "code",
   "execution_count": 10,
   "metadata": {},
   "outputs": [
    {
     "name": "stdout",
     "output_type": "stream",
     "text": [
      "sunt aut facere repellat provident occaecati excepturi optio reprehenderit\n"
     ]
    }
   ],
   "source": [
    "# Parse the JSON response and store it in a variable posts.\n",
    "# Note: We did not learn about JSON yet (This will be taught in more depth in our lesson on Dictionaries for now just think of it as a way to represent data.)\n",
    "api_data = api_data.json()\n",
    "#  Print the title of the first post in the posts list.\n",
    "title = api_data[0][\"title\"]\n",
    "print(api_data[0][\"title\"])\n",
    "# Create a list post_titles that contains the titles of all the posts.\n",
    "post_titles = [post[\"title\"] for post in api_data]\n",
    "\n",
    "\n",
    "\n"
   ]
  },
  {
   "cell_type": "code",
   "execution_count": 11,
   "metadata": {},
   "outputs": [
    {
     "name": "stdout",
     "output_type": "stream",
     "text": [
      "repellendus qui recusandae incidunt voluptates tenetur qui omnis exercitationem\n",
      "error suscipit maxime adipisci consequuntur recusandae\n",
      "voluptas eligendi et est et voluptates\n",
      "quia distinctio ab amet quaerat molestiae et vitae\n",
      "adipisci impedit sequi nesciunt quis consectetur\n"
     ]
    }
   ],
   "source": [
    "# Find the post with the longest title and print its title and body. Print the titles of the first 5 posts using slicing. \n",
    "# Note: Copilot might try to fill in a lambda function for this task. Try to solve it without using a lambda function.\n",
    "# longest_post = max(api_data, key=lambda post: len(post[\"title\"]))\n",
    "\n",
    "longest_title = \"\"\n",
    "longest_body = \"\"\n",
    "for post in api_data:\n",
    "    if len(post[\"title\"]) > len(longest_title):\n",
    "        longest_title = post[\"title\"]\n",
    "        longest_body = post[\"body\"]\n",
    "\n",
    "print (longest_title)\n",
    "print (longest_body)"
   ]
  },
  {
   "cell_type": "code",
   "execution_count": 12,
   "metadata": {},
   "outputs": [
    {
     "name": "stdout",
     "output_type": "stream",
     "text": [
      "(1, 'nesciunt quas odio', 'repudiandae veniam quaerat sunt sed\\nalias aut fugiat sit autem sed est\\nvoluptatem omnis possimus esse voluptatibus quis\\nest aut tenetur dolor neque')\n"
     ]
    }
   ],
   "source": [
    "# Create a tuple post_info that contains the userId, title, and body of the fifth post in the list.\n",
    "post_info = (api_data[4][\"userId\"], api_data[4][\"title\"], api_data[4][\"body\"])\n",
    "print(post_info)\n"
   ]
  }
 ],
 "metadata": {
  "kernelspec": {
   "display_name": "Python 3",
   "language": "python",
   "name": "python3"
  },
  "language_info": {
   "codemirror_mode": {
    "name": "ipython",
    "version": 3
   },
   "file_extension": ".py",
   "mimetype": "text/x-python",
   "name": "python",
   "nbconvert_exporter": "python",
   "pygments_lexer": "ipython3",
   "version": "3.11.5"
  }
 },
 "nbformat": 4,
 "nbformat_minor": 2
}
